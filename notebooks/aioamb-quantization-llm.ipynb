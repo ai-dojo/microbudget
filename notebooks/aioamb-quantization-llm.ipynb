{
 "cells": [
  {
   "cell_type": "markdown",
   "metadata": {},
   "source": [
    "# Quantization Example: Running a Large Language Model with Different Levels of Quantization"
   ]
  },
  {
   "cell_type": "markdown",
   "metadata": {},
   "source": [
    "In this example we want to compare the capabilities of an LLM in different quantized versions."
   ]
  },
  {
   "cell_type": "markdown",
   "metadata": {},
   "source": [
    "## Setup: Ollama"
   ]
  },
  {
   "cell_type": "markdown",
   "metadata": {},
   "source": [
    "Unsurprisingly, LLMs are often large - in terms of file size and memory footprint. A convenient way of managing local LLMs is Ollama."
   ]
  },
  {
   "cell_type": "code",
   "execution_count": 1,
   "metadata": {},
   "outputs": [],
   "source": [
    "from ai_dojo import show"
   ]
  },
  {
   "cell_type": "code",
   "execution_count": 2,
   "metadata": {},
   "outputs": [
    {
     "data": {
      "text/html": [
       "\n",
       "            <div style=\"border:1px solid #e1e4e8; padding: 20px; border-radius: 6px; font-family: Arial, sans-serif; box-shadow: 0 2px 3px rgba(0,0,0,0.1); display: flex; align-items: center;\">\n",
       "                <img src=\"https://avatars.githubusercontent.com/u/151674099?v=4\" alt=\"Repo Icon\" style=\"width: 50px; vertical-align: middle; border-radius: 50%; margin-right: 10px;\">\n",
       "                <div style=\"flex-grow: 1;\">\n",
       "                    <span style=\"font-size: 20px;\"><a href=\"https://github.com/ollama/ollama\" target=\"_blank\">ollama</a></span>\n",
       "                    <p style=\"margin: 5px 0;\"><strong>Organization/User:</strong> ollama</p>\n",
       "                    <p style=\"margin: 5px 0;\"><em>Get up and running with Llama 3, Mistral, Gemma, and other large language models.</em></p>\n",
       "                </div>\n",
       "                <div style=\"margin-left: auto; text-align: right;\">\n",
       "                    <p style=\"margin: 0; font-size: 16px;\">★ 68347</p>\n",
       "                    <p style=\"margin: 0; font-size: 16px;\"><strong>License:</strong> MIT License</p>\n",
       "                </div>\n",
       "            </div>\n",
       "            "
      ],
      "text/plain": [
       "<IPython.core.display.HTML object>"
      ]
     },
     "metadata": {},
     "output_type": "display_data"
    }
   ],
   "source": [
    "show.github_repo(\"https://github.com/ollama/ollama\")"
   ]
  },
  {
   "cell_type": "markdown",
   "metadata": {},
   "source": [
    "Follow the installation steps lined out in the ollama repo to install it and start it on your system. Alternatively, if you have docker, you can just do\n",
    "\n",
    "```\n",
    "docker run -d -v ollama:/root/.ollama -p 11434:11434 --name ollama ollama/ollama\n",
    "``` "
   ]
  },
  {
   "cell_type": "markdown",
   "metadata": {},
   "source": [
    "We are going to use this Python module to interact with the ollama system."
   ]
  },
  {
   "cell_type": "code",
   "execution_count": 3,
   "metadata": {},
   "outputs": [
    {
     "data": {
      "text/html": [
       "\n",
       "            <div style=\"border:1px solid #e1e4e8; padding: 20px; border-radius: 6px; font-family: Arial, sans-serif; box-shadow: 0 2px 3px rgba(0,0,0,0.1); display: flex; align-items: center;\">\n",
       "                <img src=\"https://avatars.githubusercontent.com/u/151674099?v=4\" alt=\"Repo Icon\" style=\"width: 50px; vertical-align: middle; border-radius: 50%; margin-right: 10px;\">\n",
       "                <div style=\"flex-grow: 1;\">\n",
       "                    <span style=\"font-size: 20px;\"><a href=\"https://github.com/ollama/ollama-python\" target=\"_blank\">ollama-python</a></span>\n",
       "                    <p style=\"margin: 5px 0;\"><strong>Organization/User:</strong> ollama</p>\n",
       "                    <p style=\"margin: 5px 0;\"><em>Ollama Python library</em></p>\n",
       "                </div>\n",
       "                <div style=\"margin-left: auto; text-align: right;\">\n",
       "                    <p style=\"margin: 0; font-size: 16px;\">★ 2212</p>\n",
       "                    <p style=\"margin: 0; font-size: 16px;\"><strong>License:</strong> MIT License</p>\n",
       "                </div>\n",
       "            </div>\n",
       "            "
      ],
      "text/plain": [
       "<IPython.core.display.HTML object>"
      ]
     },
     "metadata": {},
     "output_type": "display_data"
    }
   ],
   "source": [
    "show.github_repo(\"https://github.com/ollama/ollama-python\")"
   ]
  },
  {
   "cell_type": "code",
   "execution_count": 4,
   "metadata": {},
   "outputs": [],
   "source": [
    "import ollama"
   ]
  },
  {
   "cell_type": "markdown",
   "metadata": {},
   "source": [
    "## A LLM in Quantized Versions"
   ]
  },
  {
   "cell_type": "markdown",
   "metadata": {},
   "source": [
    "\n",
    "> Rocket 🦝 is a 3 billion large language model that was trained on a mix of publicly available datasets. [...] The outcome is a highly effective chat model\n",
    "\n"
   ]
  },
  {
   "cell_type": "markdown",
   "metadata": {},
   "source": [
    "### Quantized Versions"
   ]
  },
  {
   "cell_type": "markdown",
   "metadata": {},
   "source": [
    "We are now going to get some quantized versions of this model. A 🤗 user has already applied various quantization methods to the model and provided the results."
   ]
  },
  {
   "cell_type": "code",
   "execution_count": 5,
   "metadata": {},
   "outputs": [],
   "source": [
    "import huggingface_hub"
   ]
  },
  {
   "cell_type": "code",
   "execution_count": 6,
   "metadata": {},
   "outputs": [
    {
     "data": {
      "text/plain": [
       "'https://huggingface.co/TheBloke/rocket-3B-GGUF'"
      ]
     },
     "execution_count": 6,
     "metadata": {},
     "output_type": "execute_result"
    }
   ],
   "source": [
    "huggingface_user = \"TheBloke\"\n",
    "model_name = \"rocket-3B-GGUF\"\n",
    "full_model_name = f\"{huggingface_user}/{model_name}\"\n",
    "model_page_url= f\"https://huggingface.co/{full_model_name}\"\n",
    "model_page_url"
   ]
  },
  {
   "cell_type": "markdown",
   "metadata": {},
   "source": [
    "**ℹ The GGUF File Format**\n",
    "\n",
    "[**GGUF**](https://huggingface.co/docs/hub/gguf) is a binary format that is optimized for quick loading and saving of models, making it highly efficient for inference purposes. Unlike tensor-only file formats like safetensors, GGUF encodes both the tensors and a standardized set of metadata\n",
    "\n",
    "\n",
    "![](img/gguf-spec.png)"
   ]
  },
  {
   "cell_type": "markdown",
   "metadata": {},
   "source": [
    "The model page lists a variety of quantized models in different quantization types. Let's focus on a few."
   ]
  },
  {
   "cell_type": "code",
   "execution_count": 7,
   "metadata": {},
   "outputs": [],
   "source": [
    "quantization_types = [\n",
    "    \"Q8_0\",\n",
    "    \"Q4_K_M\",\n",
    "    \"Q2_K\",\n",
    "]"
   ]
  },
  {
   "cell_type": "markdown",
   "metadata": {},
   "source": [
    "These quantized models are not available from the Ollama model registry. Fortunately, adding custom models downloaded from 🤗 to Ollama is quite straightforward. We need to give Ollama a model name and a simple configuration file."
   ]
  },
  {
   "cell_type": "code",
   "execution_count": 8,
   "metadata": {},
   "outputs": [],
   "source": [
    "import tqdm"
   ]
  },
  {
   "cell_type": "code",
   "execution_count": 9,
   "metadata": {},
   "outputs": [
    {
     "name": "stderr",
     "output_type": "stream",
     "text": [
      "  0%|          | 0/3 [00:00<?, ?it/s]/Users/cls/miniforge3/envs/ai-on-a-microbudget/lib/python3.11/site-packages/tqdm/auto.py:21: TqdmWarning: IProgress not found. Please update jupyter and ipywidgets. See https://ipywidgets.readthedocs.io/en/stable/user_install.html\n",
      "  from .autonotebook import tqdm as notebook_tqdm\n"
     ]
    },
    {
     "name": "stdout",
     "output_type": "stream",
     "text": [
      "Downloading Q8_0 model\n"
     ]
    },
    {
     "name": "stderr",
     "output_type": "stream",
     "text": [
      " 33%|███▎      | 1/3 [00:00<00:00,  2.06it/s]"
     ]
    },
    {
     "name": "stdout",
     "output_type": "stream",
     "text": [
      "Downloading Q4_K_M model\n"
     ]
    },
    {
     "name": "stderr",
     "output_type": "stream",
     "text": [
      "100%|██████████| 3/3 [00:01<00:00,  2.97it/s]"
     ]
    },
    {
     "name": "stdout",
     "output_type": "stream",
     "text": [
      "Downloading Q2_K model\n"
     ]
    },
    {
     "name": "stderr",
     "output_type": "stream",
     "text": [
      "\n"
     ]
    },
    {
     "data": {
      "text/plain": [
       "{'Q8_0': '/Users/cls/.cache/huggingface/hub/models--TheBloke--rocket-3B-GGUF/snapshots/23c0500471cb5e466aab7e9ade9b4da32dea43d2/rocket-3b.Q8_0.gguf',\n",
       " 'Q4_K_M': '/Users/cls/.cache/huggingface/hub/models--TheBloke--rocket-3B-GGUF/snapshots/23c0500471cb5e466aab7e9ade9b4da32dea43d2/rocket-3b.Q4_K_M.gguf',\n",
       " 'Q2_K': '/Users/cls/.cache/huggingface/hub/models--TheBloke--rocket-3B-GGUF/snapshots/23c0500471cb5e466aab7e9ade9b4da32dea43d2/rocket-3b.Q2_K.gguf'}"
      ]
     },
     "execution_count": 9,
     "metadata": {},
     "output_type": "execute_result"
    }
   ],
   "source": [
    "quantized_model_paths = {}\n",
    "for qtype in tqdm.tqdm(quantization_types):\n",
    "    model_file = f\"rocket-3b.{qtype}.gguf\" \n",
    "    tqdm.tqdm.write(f\"Downloading {qtype} model\")\n",
    "    model_path = huggingface_hub.hf_hub_download(full_model_name, filename=model_file)\n",
    "    quantized_model_paths[qtype] = model_path\n",
    "    \n",
    "quantized_model_paths"
   ]
  },
  {
   "cell_type": "code",
   "execution_count": 10,
   "metadata": {},
   "outputs": [],
   "source": [
    "def make_model_file(model_path) -> str:\n",
    "    \"\"\"Creates a simple Ollama model configuration file for the given serialized model.\"\"\"\n",
    "    content = f\"FROM {model_path}\"\n",
    "    return content"
   ]
  },
  {
   "cell_type": "code",
   "execution_count": 11,
   "metadata": {},
   "outputs": [
    {
     "name": "stdout",
     "output_type": "stream",
     "text": [
      "Creating Ollama model rocket-3B-GGUF:Q8_0\n",
      "success\n",
      "Creating Ollama model rocket-3B-GGUF:Q4_K_M\n",
      "success\n",
      "Creating Ollama model rocket-3B-GGUF:Q2_K\n",
      "success\n"
     ]
    }
   ],
   "source": [
    "for qtype, model_path in quantized_model_paths.items():\n",
    "    ollama_model_name = f\"{model_name}:{qtype}\"\n",
    "    print(f\"Creating Ollama model {ollama_model_name}\")\n",
    "    response = ollama.create(\n",
    "        model=ollama_model_name,\n",
    "        modelfile=make_model_file(model_path)\n",
    "    )\n",
    "    print(response[\"status\"])\n"
   ]
  },
  {
   "cell_type": "markdown",
   "metadata": {},
   "source": [
    "Let's verify that all of the models above are now available in Ollama. Also, have a look at the size on disk."
   ]
  },
  {
   "cell_type": "code",
   "execution_count": 12,
   "metadata": {},
   "outputs": [],
   "source": [
    "import pandas\n",
    "from pandas import DataFrame\n"
   ]
  },
  {
   "cell_type": "code",
   "execution_count": 13,
   "metadata": {},
   "outputs": [],
   "source": [
    "def show_ollama_model_table() -> DataFrame:\n",
    "    \"\"\"List Ollama models in tabular form\"\"\"\n",
    "    model_data = pandas.json_normalize(ollama.list()[\"models\"])\n",
    "    model_data = model_data[[\"model\", \"size\", \"details.family\", \"details.format\", \"details.parameter_size\", \"details.quantization_level\"]]\n",
    "    model_data[\"size\"] = model_data[\"size\"].apply(lambda s: round(s / (1024**3), 2))\n",
    "    return model_data"
   ]
  },
  {
   "cell_type": "code",
   "execution_count": 14,
   "metadata": {},
   "outputs": [
    {
     "data": {
      "text/html": [
       "<div>\n",
       "<style scoped>\n",
       "    .dataframe tbody tr th:only-of-type {\n",
       "        vertical-align: middle;\n",
       "    }\n",
       "\n",
       "    .dataframe tbody tr th {\n",
       "        vertical-align: top;\n",
       "    }\n",
       "\n",
       "    .dataframe thead th {\n",
       "        text-align: right;\n",
       "    }\n",
       "</style>\n",
       "<table border=\"1\" class=\"dataframe\">\n",
       "  <thead>\n",
       "    <tr style=\"text-align: right;\">\n",
       "      <th></th>\n",
       "      <th>model</th>\n",
       "      <th>size</th>\n",
       "      <th>details.family</th>\n",
       "      <th>details.format</th>\n",
       "      <th>details.parameter_size</th>\n",
       "      <th>details.quantization_level</th>\n",
       "    </tr>\n",
       "  </thead>\n",
       "  <tbody>\n",
       "    <tr>\n",
       "      <th>0</th>\n",
       "      <td>rocket-3B-GGUF:Q2_K</td>\n",
       "      <td>1.12</td>\n",
       "      <td>stablelm</td>\n",
       "      <td>gguf</td>\n",
       "      <td>2.8B</td>\n",
       "      <td>Q2_K</td>\n",
       "    </tr>\n",
       "    <tr>\n",
       "      <th>1</th>\n",
       "      <td>rocket-3B-GGUF:Q4_K_M</td>\n",
       "      <td>1.59</td>\n",
       "      <td>stablelm</td>\n",
       "      <td>gguf</td>\n",
       "      <td>2.8B</td>\n",
       "      <td>Q4_K_M</td>\n",
       "    </tr>\n",
       "    <tr>\n",
       "      <th>2</th>\n",
       "      <td>rocket-3B-GGUF:Q8_0</td>\n",
       "      <td>2.77</td>\n",
       "      <td>stablelm</td>\n",
       "      <td>gguf</td>\n",
       "      <td>2.8B</td>\n",
       "      <td>Q8_0</td>\n",
       "    </tr>\n",
       "    <tr>\n",
       "      <th>3</th>\n",
       "      <td>tinyllama:1.1b-chat</td>\n",
       "      <td>0.59</td>\n",
       "      <td>llama</td>\n",
       "      <td>gguf</td>\n",
       "      <td>1B</td>\n",
       "      <td>Q4_0</td>\n",
       "    </tr>\n",
       "    <tr>\n",
       "      <th>4</th>\n",
       "      <td>codeqwen:7b-chat</td>\n",
       "      <td>3.89</td>\n",
       "      <td>qwen2</td>\n",
       "      <td>gguf</td>\n",
       "      <td>7B</td>\n",
       "      <td>Q4_0</td>\n",
       "    </tr>\n",
       "    <tr>\n",
       "      <th>5</th>\n",
       "      <td>tinyllama:latest</td>\n",
       "      <td>0.59</td>\n",
       "      <td>llama</td>\n",
       "      <td>gguf</td>\n",
       "      <td>1B</td>\n",
       "      <td>Q4_0</td>\n",
       "    </tr>\n",
       "    <tr>\n",
       "      <th>6</th>\n",
       "      <td>Mistral-7B-OpenOrca:Q2_K</td>\n",
       "      <td>2.87</td>\n",
       "      <td>llama</td>\n",
       "      <td>gguf</td>\n",
       "      <td>7B</td>\n",
       "      <td>Q2_K</td>\n",
       "    </tr>\n",
       "    <tr>\n",
       "      <th>7</th>\n",
       "      <td>TheBloke/Mistral-7B-OpenOrca-GGUF:mistral-7b-o...</td>\n",
       "      <td>2.87</td>\n",
       "      <td>llama</td>\n",
       "      <td>gguf</td>\n",
       "      <td>7B</td>\n",
       "      <td>Q2_K</td>\n",
       "    </tr>\n",
       "    <tr>\n",
       "      <th>8</th>\n",
       "      <td>dolphin-mixtral:latest</td>\n",
       "      <td>24.63</td>\n",
       "      <td>llama</td>\n",
       "      <td>gguf</td>\n",
       "      <td>47B</td>\n",
       "      <td>Q4_0</td>\n",
       "    </tr>\n",
       "    <tr>\n",
       "      <th>9</th>\n",
       "      <td>orca-mini:13b</td>\n",
       "      <td>6.86</td>\n",
       "      <td>llama</td>\n",
       "      <td>gguf</td>\n",
       "      <td>13B</td>\n",
       "      <td>Q4_0</td>\n",
       "    </tr>\n",
       "    <tr>\n",
       "      <th>10</th>\n",
       "      <td>nomic-embed-text:latest</td>\n",
       "      <td>0.26</td>\n",
       "      <td>nomic-bert</td>\n",
       "      <td>gguf</td>\n",
       "      <td>137M</td>\n",
       "      <td>F16</td>\n",
       "    </tr>\n",
       "    <tr>\n",
       "      <th>11</th>\n",
       "      <td>all-minilm:latest</td>\n",
       "      <td>0.04</td>\n",
       "      <td>bert</td>\n",
       "      <td>gguf</td>\n",
       "      <td>23M</td>\n",
       "      <td>F16</td>\n",
       "    </tr>\n",
       "    <tr>\n",
       "      <th>12</th>\n",
       "      <td>mxbai-embed-large:latest</td>\n",
       "      <td>0.62</td>\n",
       "      <td>bert</td>\n",
       "      <td>gguf</td>\n",
       "      <td>334M</td>\n",
       "      <td>F16</td>\n",
       "    </tr>\n",
       "    <tr>\n",
       "      <th>13</th>\n",
       "      <td>llama3:latest</td>\n",
       "      <td>4.34</td>\n",
       "      <td>llama</td>\n",
       "      <td>gguf</td>\n",
       "      <td>8B</td>\n",
       "      <td>Q4_0</td>\n",
       "    </tr>\n",
       "    <tr>\n",
       "      <th>14</th>\n",
       "      <td>gemma:2b</td>\n",
       "      <td>1.56</td>\n",
       "      <td>gemma</td>\n",
       "      <td>gguf</td>\n",
       "      <td>3B</td>\n",
       "      <td>Q4_0</td>\n",
       "    </tr>\n",
       "    <tr>\n",
       "      <th>15</th>\n",
       "      <td>starcoder2:15b</td>\n",
       "      <td>8.44</td>\n",
       "      <td>starcoder2</td>\n",
       "      <td>gguf</td>\n",
       "      <td>16B</td>\n",
       "      <td>Q4_0</td>\n",
       "    </tr>\n",
       "    <tr>\n",
       "      <th>16</th>\n",
       "      <td>llava:latest</td>\n",
       "      <td>4.41</td>\n",
       "      <td>llama</td>\n",
       "      <td>gguf</td>\n",
       "      <td>7B</td>\n",
       "      <td>Q4_0</td>\n",
       "    </tr>\n",
       "    <tr>\n",
       "      <th>17</th>\n",
       "      <td>mistral:latest</td>\n",
       "      <td>3.83</td>\n",
       "      <td>llama</td>\n",
       "      <td>gguf</td>\n",
       "      <td>7B</td>\n",
       "      <td>Q4_0</td>\n",
       "    </tr>\n",
       "  </tbody>\n",
       "</table>\n",
       "</div>"
      ],
      "text/plain": [
       "                                                model   size details.family  \\\n",
       "0                                 rocket-3B-GGUF:Q2_K   1.12       stablelm   \n",
       "1                               rocket-3B-GGUF:Q4_K_M   1.59       stablelm   \n",
       "2                                 rocket-3B-GGUF:Q8_0   2.77       stablelm   \n",
       "3                                 tinyllama:1.1b-chat   0.59          llama   \n",
       "4                                    codeqwen:7b-chat   3.89          qwen2   \n",
       "5                                    tinyllama:latest   0.59          llama   \n",
       "6                            Mistral-7B-OpenOrca:Q2_K   2.87          llama   \n",
       "7   TheBloke/Mistral-7B-OpenOrca-GGUF:mistral-7b-o...   2.87          llama   \n",
       "8                              dolphin-mixtral:latest  24.63          llama   \n",
       "9                                       orca-mini:13b   6.86          llama   \n",
       "10                            nomic-embed-text:latest   0.26     nomic-bert   \n",
       "11                                  all-minilm:latest   0.04           bert   \n",
       "12                           mxbai-embed-large:latest   0.62           bert   \n",
       "13                                      llama3:latest   4.34          llama   \n",
       "14                                           gemma:2b   1.56          gemma   \n",
       "15                                     starcoder2:15b   8.44     starcoder2   \n",
       "16                                       llava:latest   4.41          llama   \n",
       "17                                     mistral:latest   3.83          llama   \n",
       "\n",
       "   details.format details.parameter_size details.quantization_level  \n",
       "0            gguf                   2.8B                       Q2_K  \n",
       "1            gguf                   2.8B                     Q4_K_M  \n",
       "2            gguf                   2.8B                       Q8_0  \n",
       "3            gguf                     1B                       Q4_0  \n",
       "4            gguf                     7B                       Q4_0  \n",
       "5            gguf                     1B                       Q4_0  \n",
       "6            gguf                     7B                       Q2_K  \n",
       "7            gguf                     7B                       Q2_K  \n",
       "8            gguf                    47B                       Q4_0  \n",
       "9            gguf                    13B                       Q4_0  \n",
       "10           gguf                   137M                        F16  \n",
       "11           gguf                    23M                        F16  \n",
       "12           gguf                   334M                        F16  \n",
       "13           gguf                     8B                       Q4_0  \n",
       "14           gguf                     3B                       Q4_0  \n",
       "15           gguf                    16B                       Q4_0  \n",
       "16           gguf                     7B                       Q4_0  \n",
       "17           gguf                     7B                       Q4_0  "
      ]
     },
     "execution_count": 14,
     "metadata": {},
     "output_type": "execute_result"
    }
   ],
   "source": [
    "show_ollama_model_table()"
   ]
  },
  {
   "cell_type": "markdown",
   "metadata": {},
   "source": [
    "## Test\n",
    "\n",
    "Let's prompt the original and the quantized models to do something useful. This should give us a first impression of how model performance relates to the level of quantization."
   ]
  },
  {
   "cell_type": "code",
   "execution_count": 15,
   "metadata": {},
   "outputs": [
    {
     "data": {
      "text/markdown": [
       "Recommend some sights in Florence, Italy."
      ],
      "text/plain": [
       "<IPython.core.display.Markdown object>"
      ]
     },
     "metadata": {},
     "output_type": "display_data"
    }
   ],
   "source": [
    "test_prompt = \"Recommend some sights in Florence, Italy.\"\n",
    "show.text(test_prompt)"
   ]
  },
  {
   "cell_type": "markdown",
   "metadata": {},
   "source": [
    "### 8-bit "
   ]
  },
  {
   "cell_type": "code",
   "execution_count": 16,
   "metadata": {},
   "outputs": [
    {
     "data": {
      "text/plain": [
       "'rocket-3B-GGUF:Q8_0'"
      ]
     },
     "execution_count": 16,
     "metadata": {},
     "output_type": "execute_result"
    }
   ],
   "source": [
    "quantization_level = \"Q8_0\"\n",
    "ollama_model_name = f\"{model_name}:{quantization_level}\"\n",
    "ollama_model_name"
   ]
  },
  {
   "cell_type": "code",
   "execution_count": 17,
   "metadata": {},
   "outputs": [
    {
     "name": "stdout",
     "output_type": "stream",
     "text": [
      "\n",
      "\n",
      "1. Ponte Vecchio: This iconic stone bridge over the Arno river offers stunning views of the historic Florence from above. It's lined with shops that sell gold and jewellery but beware as they tend to rip off tourists! \n",
      "\n",
      "2. Uffizi Gallery: A world-famous art museum that houses some of the most famous paintings such as Botticelli’s ‘The Birth of Venus,’ Michelangelo's ‘Doni Tondo,’ and Raphael’s ‘Sistine Madonna.’\n",
      "\n",
      "3. Piazza della Signoria: Often referred to as the ‘Main Square of Florence,’ this central square is a gathering place for both locals and tourists alike, where you can admire the famous statue of David by Michelangelo which stands tall in the middle. \n",
      "\n",
      "4. Duomo di Firenze (Florence Cathedral): A magnificent Gothic cathedral that took over 400 years to complete with its iconic dome designed by Filippo Brunelleschi. The interiors are breathtaking, with intricate frescoes and mosaics adorning the walls and ceilings.\n",
      "\n",
      "5. Boboli Gardens: Situated behind the Pitti Palace, these gardens offer a peaceful escape from the hustle and bustle of the city. They feature vast greenery, fountains, sculptures and stunning panoramic views of Florence that can be enjoyed during sunset hours.\n",
      "\n",
      "6. Mercato Centrale: This indoor market offers an array of food options catering to all tastes including fresh pasta, pizzas, seafood, ice cream, and gelato. \n",
      "\n",
      "7. Basilica di Santa Croce: Also known as the ‘Church of the Holy Cross,’ it's famous for its beautiful frescoes painted by artists such as Fra Angelico and Giotto di Bondone. The tombs of notable figures like Galileo, Michelangelo, Machiavelli and others can also be found here.\n",
      "\n",
      "8. Palazzo Vecchio: This medieval palace served as the seat of power during the Renaissance period and features stunning architecture, frescoes, and sculptures that depict historical events from the time. Today, it houses several museums including the Galleria Palatina.\n",
      "\n",
      "9. San Lorenzo Market: A bustling outdoor market where you can shop for leather goods, jewelry, souvenirs and antiques. Be prepared to negotiate with vendors as bargaining is customary here. \n",
      "\n",
      "10. Oltrarno: Located on the other side of the Arno river, this bohemian neighbourhood offers a different perspective of Florence. It's known for its street art, trendy cafes, boutique shops and views of the river from Piazzale Michelangelo. \n",
      "\n",
      "These are just some of the many sights to explore in Florence. There's so much more beyond these attractions that make this city a must-visit destination for every traveler!"
     ]
    }
   ],
   "source": [
    "response = ollama.chat(\n",
    "    model=ollama_model_name,\n",
    "    messages=[\n",
    "        {\n",
    "            \"role\": \"user\",\n",
    "            \"content\": test_prompt,\n",
    "        },\n",
    "    ],\n",
    "    stream=True,\n",
    ")\n",
    "show.stream(response)"
   ]
  },
  {
   "cell_type": "markdown",
   "metadata": {},
   "source": [
    "### 4-bit"
   ]
  },
  {
   "cell_type": "code",
   "execution_count": 18,
   "metadata": {},
   "outputs": [
    {
     "data": {
      "text/plain": [
       "'rocket-3B-GGUF:Q4_K_M'"
      ]
     },
     "execution_count": 18,
     "metadata": {},
     "output_type": "execute_result"
    }
   ],
   "source": [
    "quantization_level = \"Q4_K_M\"\n",
    "ollama_model_name = f\"{model_name}:{quantization_level}\"\n",
    "ollama_model_name"
   ]
  },
  {
   "cell_type": "code",
   "execution_count": 19,
   "metadata": {},
   "outputs": [
    {
     "name": "stdout",
     "output_type": "stream",
     "text": [
      " Florence is a city located in central Italy and is known for its rich history, art, and architecture. There are plenty of things to see and do in this beautiful city. Here are some must-visit attractions in Florence:\n",
      "1. The Uffizi Gallery - This world-famous museum houses an incredible collection of Italian Renaissance artwork, including masterpieces by Leonardo da Vinci, Michelangelo, Botticelli, and Raphael.\n",
      "2. Ponte Vecchio - A medieval bridge that spans the Arno River, this iconic landmark is lined with shops selling souvenirs and jewelry made from precious stones and metals.\n",
      "3. Duomo di Firenze (Florence Cathedral) - This stunning Gothic-style cathedral boasts a striking red and white striped facade, towering spires, and intricate sculptures and decorations. Inside the cathedral, admire the beautiful mosaics and take in sweeping views of the city from its bell tower.\n",
      "4. Piazza della Signoria (Town Square) - A bustling public square at the heart of Florence, this is where you'll find the famous statue of Giorgio Vasari's \"David,\" an iconic symbol of the Renaissance era. The square also features stunning medieval and renaissance architecture.\n",
      "5. Ponte alla Maddalena - Another beautiful bridge spanning across the Arno River, this one offers picturesque views and serene atmosphere, perfect for a leisurely stroll or picnic.\n",
      "6. Palazzo Vecchio (Old Palace) - A historical landmark that has served as the seat of power for the city's ruling authorities since the 14th century. The palace boasts beautiful frescoes, sculptures, and intricate stonework.\n",
      "7. Mercato Centrale - Located just off Piazza della Signoria, this lively marketplace is a hub for foodies, offering a variety of gourmet Italian dishes, local wines, and craft beers.\n",
      "8. Basilica di Santa Croce (Basilica of the Holy Cross) - A grand Gothic-style church that houses the tombs of famous Italians including Michelangelo, Galileo, Machiavelli, and Dante Alighieri. The basilica is a must-visit for history buffs and art lovers alike.\n",
      "9. Bargello Museum (Gifted to the City in 1524) - This museum showcases medieval and renaissance sculptures, paintings, and decorative arts, including an impressive collection of bronze statues by Donatello and Michelangelo.\n",
      "10. UNA Firenze Shopping Village - A modern shopping complex that offers a unique blend of fashion, accessories, cosmetics, souvenirs, and artisanal products from local craftsmen.\n",
      "11. Pitti Palace (Pitti Museum) - A magnificent palace turned museum, featuring an extensive collection of antique furniture, paintings, sculptures, and decorative arts from different periods in history. The museum also hosts temporary exhibitions and cultural events.\n",
      "12. Oltrarno (Beyond the Arno River) - This charming neighborhood is located on the left bank of the river and boasts picturesque views of the Ponte alla Maddalena and the surrounding hills. It's a perfect place for a leisurely stroll, coffee shop hopping, or gelato indulgence.\n",
      "Florence offers something for everyone, from art lovers to history buffs, foodies to shoppers, and nature admirers to architecture enthusiasts. No matter what your interests are, there is always something to see and discover in this enchanting city."
     ]
    }
   ],
   "source": [
    "response = ollama.chat(\n",
    "    model=ollama_model_name,\n",
    "    messages=[\n",
    "        {\n",
    "            \"role\": \"user\",\n",
    "            \"content\": test_prompt,\n",
    "        },\n",
    "    ],\n",
    "    stream=True,\n",
    ")\n",
    "show.stream(response)"
   ]
  },
  {
   "cell_type": "markdown",
   "metadata": {},
   "source": [
    "### 2-bit"
   ]
  },
  {
   "cell_type": "code",
   "execution_count": 20,
   "metadata": {},
   "outputs": [
    {
     "data": {
      "text/plain": [
       "'rocket-3B-GGUF:Q2_K'"
      ]
     },
     "execution_count": 20,
     "metadata": {},
     "output_type": "execute_result"
    }
   ],
   "source": [
    "quantization_level = \"Q2_K\"\n",
    "ollama_model_name = f\"{model_name}:{quantization_level}\"\n",
    "ollama_model_name"
   ]
  },
  {
   "cell_type": "code",
   "execution_count": 26,
   "metadata": {},
   "outputs": [
    {
     "name": "stdout",
     "output_type": "stream",
     "text": [
      " […]\n",
      "Florence is a city full of history and art. Here are some famous sights to visit:\n",
      "1. The Duomo: This iconic cathedral towers over the Piazza del Duomo, one of Italy's largest squares. Climb up to the roof terrace for an incredible panoramic view of Florence.\n",
      "2. Gallerica di Santa Maria del Fiore: This is a beautiful church in Florence featuring stunning frescoes by Italian Renaissance painter Benoît de la Vallée.\n",
      "3. Ponte Vecchio: This medieval bridge over the Arno river offers tourists an opportunity to browse local artisanal shops selling souvenirs, jewelry and leather goods.\n",
      "4. Uffizi Gallery: This world-famous museum contains a vast collection of artwork and artifacts from various parts of history such as Ancient Greek sculptures.\n",
      "5. The Baptistery: Located near the Duomo in Florence's historic center, this baptistry is known for its stunning Byzantine mosaics inside.\n",
      "6. Piazza della Signoria: This famous public square offers an amazing view of Florence Cathedral and also houses some remarkable palaces. \n",
      "7. Boboli Gardens: The most beautiful park in Florence boasts a fantastic range of gardens.\n",
      "8. Palazzo Pitti: A significant historical building that was the residence of the powerful Medici family, is now converted into a shopping district with designer brands.\n",
      "9. Basilica di Santa Maria del Fiore: Located at the heart of Florence, this church is recognized for its beautiful architecture and rich history. \n",
      "10. The Last Supper by Leonardo da Vinci, located inside the Convent of SS. Leopoldine, Maria Maddalina, and Christina is a must-see work of art that represents a significant moment in Christian history."
     ]
    }
   ],
   "source": [
    "response = ollama.chat(\n",
    "    model=ollama_model_name,\n",
    "    messages=[\n",
    "        {\n",
    "            \"role\": \"user\",\n",
    "            \"content\": test_prompt,\n",
    "        },\n",
    "    ],\n",
    "    stream=True,\n",
    ")\n",
    "show.stream(response)"
   ]
  },
  {
   "cell_type": "markdown",
   "metadata": {},
   "source": [
    "How would you rate the quality of each response? Letting a large, highly factual LLM review them might help you spot the errors."
   ]
  },
  {
   "cell_type": "markdown",
   "metadata": {},
   "source": [
    "---\n",
    "_This notebook is licensed under a [Creative Commons Attribution-NonCommercial-ShareAlike 4.0 International (CC BY-NC-SA 4.0)](https://creativecommons.org/licenses/by-nc-sa/4.0/). Copyright © 2024 [Christian Staudt](https://clstaudt.me), [Katharina Rasch](https://krasch.io)_"
   ]
  }
 ],
 "metadata": {
  "kernelspec": {
   "display_name": "Python 3 (ipykernel)",
   "language": "python",
   "name": "python3"
  },
  "language_info": {
   "codemirror_mode": {
    "name": "ipython",
    "version": 3
   },
   "file_extension": ".py",
   "mimetype": "text/x-python",
   "name": "python",
   "nbconvert_exporter": "python",
   "pygments_lexer": "ipython3",
   "version": "3.11.9"
  }
 },
 "nbformat": 4,
 "nbformat_minor": 4
}
