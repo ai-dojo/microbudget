{
 "cells": [
  {
   "cell_type": "markdown",
   "metadata": {},
   "source": [
    "# Quantization Example: Running a Large Language Model with Different Levels of Quantization"
   ]
  },
  {
   "cell_type": "markdown",
   "metadata": {},
   "source": [
    "In this example we want to compare the capabilities of an LLM in different quantized versions."
   ]
  },
  {
   "cell_type": "markdown",
   "metadata": {},
   "source": [
    "## Setup: Ollama"
   ]
  },
  {
   "cell_type": "markdown",
   "metadata": {},
   "source": [
    "Unsurprisingly, LLMs are often large - in terms of file size and memory footprint. A conventient way of managing local LLMs is Ollama."
   ]
  },
  {
   "cell_type": "code",
   "execution_count": 1,
   "metadata": {},
   "outputs": [],
   "source": [
    "from ai_dojo import show"
   ]
  },
  {
   "cell_type": "code",
   "execution_count": 2,
   "metadata": {},
   "outputs": [
    {
     "data": {
      "text/html": [
       "\n",
       "            <div style=\"border:1px solid #e1e4e8; padding: 20px; border-radius: 6px; font-family: Arial, sans-serif; box-shadow: 0 2px 3px rgba(0,0,0,0.1); display: flex; align-items: center;\">\n",
       "                <img src=\"https://avatars.githubusercontent.com/u/151674099?v=4\" alt=\"Repo Icon\" style=\"width: 50px; vertical-align: middle; border-radius: 50%; margin-right: 10px;\">\n",
       "                <div style=\"flex-grow: 1;\">\n",
       "                    <span style=\"font-size: 20px;\"><a href=\"https://github.com/ollama/ollama\" target=\"_blank\">ollama</a></span>\n",
       "                    <p style=\"margin: 5px 0;\"><strong>Organization/User:</strong> ollama</p>\n",
       "                    <p style=\"margin: 5px 0;\"><em>Get up and running with Llama 3, Mistral, Gemma, and other large language models.</em></p>\n",
       "                </div>\n",
       "                <div style=\"margin-left: auto; text-align: right;\">\n",
       "                    <p style=\"margin: 0; font-size: 16px;\">★ 68090</p>\n",
       "                    <p style=\"margin: 0; font-size: 16px;\"><strong>License:</strong> MIT License</p>\n",
       "                </div>\n",
       "            </div>\n",
       "            "
      ],
      "text/plain": [
       "<IPython.core.display.HTML object>"
      ]
     },
     "metadata": {},
     "output_type": "display_data"
    }
   ],
   "source": [
    "show.github_repo(\"https://github.com/ollama/ollama\")"
   ]
  },
  {
   "cell_type": "markdown",
   "metadata": {},
   "source": [
    "Follow the installation steps lined out in the ollama repo to install it and start it on your system. Alternatively, if you have docker, you can just do\n",
    "\n",
    "```\n",
    "docker run -d -v ollama:/root/.ollama -p 11434:11434 --name ollama ollama/ollama\n",
    "``` "
   ]
  },
  {
   "cell_type": "markdown",
   "metadata": {},
   "source": [
    "We are going to use this Python module to interact with the ollama system."
   ]
  },
  {
   "cell_type": "code",
   "execution_count": 3,
   "metadata": {},
   "outputs": [
    {
     "data": {
      "text/html": [
       "\n",
       "            <div style=\"border:1px solid #e1e4e8; padding: 20px; border-radius: 6px; font-family: Arial, sans-serif; box-shadow: 0 2px 3px rgba(0,0,0,0.1); display: flex; align-items: center;\">\n",
       "                <img src=\"https://avatars.githubusercontent.com/u/151674099?v=4\" alt=\"Repo Icon\" style=\"width: 50px; vertical-align: middle; border-radius: 50%; margin-right: 10px;\">\n",
       "                <div style=\"flex-grow: 1;\">\n",
       "                    <span style=\"font-size: 20px;\"><a href=\"https://github.com/ollama/ollama-python\" target=\"_blank\">ollama-python</a></span>\n",
       "                    <p style=\"margin: 5px 0;\"><strong>Organization/User:</strong> ollama</p>\n",
       "                    <p style=\"margin: 5px 0;\"><em>Ollama Python library</em></p>\n",
       "                </div>\n",
       "                <div style=\"margin-left: auto; text-align: right;\">\n",
       "                    <p style=\"margin: 0; font-size: 16px;\">★ 2195</p>\n",
       "                    <p style=\"margin: 0; font-size: 16px;\"><strong>License:</strong> MIT License</p>\n",
       "                </div>\n",
       "            </div>\n",
       "            "
      ],
      "text/plain": [
       "<IPython.core.display.HTML object>"
      ]
     },
     "metadata": {},
     "output_type": "display_data"
    }
   ],
   "source": [
    "show.github_repo(\"https://github.com/ollama/ollama-python\")"
   ]
  },
  {
   "cell_type": "code",
   "execution_count": 4,
   "metadata": {},
   "outputs": [],
   "source": [
    "import ollama"
   ]
  },
  {
   "cell_type": "markdown",
   "metadata": {},
   "source": [
    "## A LLM in Quantized Versions"
   ]
  },
  {
   "cell_type": "markdown",
   "metadata": {},
   "source": [
    "\n",
    "> Rocket 🦝 is a 3 billion large language model that was trained on a mix of publicly available datasets. [...] The outcome is a highly effective chat model\n",
    "\n"
   ]
  },
  {
   "cell_type": "markdown",
   "metadata": {},
   "source": [
    "### Quantized Versions"
   ]
  },
  {
   "cell_type": "markdown",
   "metadata": {},
   "source": [
    "We are now going to get some quantized versions of this model. A 🤗 user has already applied various quantization methods to the model and provided the results."
   ]
  },
  {
   "cell_type": "code",
   "execution_count": 5,
   "metadata": {},
   "outputs": [],
   "source": [
    "import huggingface_hub"
   ]
  },
  {
   "cell_type": "code",
   "execution_count": 6,
   "metadata": {},
   "outputs": [
    {
     "data": {
      "text/plain": [
       "'https://huggingface.co/TheBloke/rocket-3B-GGUF'"
      ]
     },
     "execution_count": 6,
     "metadata": {},
     "output_type": "execute_result"
    }
   ],
   "source": [
    "huggingface_user = \"TheBloke\"\n",
    "model_name = \"rocket-3B-GGUF\"\n",
    "full_model_name = f\"{huggingface_user}/{model_name}\"\n",
    "model_page_url= f\"https://huggingface.co/{full_model_name}\"\n",
    "model_page_url"
   ]
  },
  {
   "cell_type": "markdown",
   "metadata": {},
   "source": [
    "**ℹ The GGUF File Format**\n",
    "\n",
    "[**GGUF**](https://huggingface.co/docs/hub/gguf) is a binary format that is optimized for quick loading and saving of models, making it highly efficient for inference purposes. Unlike tensor-only file formats like safetensors, GGUF encodes both the tensors and a standardized set of metadata\n",
    "\n",
    "\n",
    "![](https://cdn-lfs.huggingface.co/datasets/huggingface/documentation-images/60dc8f9e25311d5ab671019499edd6f847bf3c9796d97b5579240c652ef445da?response-content-disposition=inline%3B+filename*%3DUTF-8%27%27gguf-spec.png%3B+filename%3D%22gguf-spec.png%22%3B&response-content-type=image%2Fpng&Expires=1715686360&Policy=eyJTdGF0ZW1lbnQiOlt7IkNvbmRpdGlvbiI6eyJEYXRlTGVzc1RoYW4iOnsiQVdTOkVwb2NoVGltZSI6MTcxNTY4NjM2MH19LCJSZXNvdXJjZSI6Imh0dHBzOi8vY2RuLWxmcy5odWdnaW5nZmFjZS5jby9kYXRhc2V0cy9odWdnaW5nZmFjZS9kb2N1bWVudGF0aW9uLWltYWdlcy82MGRjOGY5ZTI1MzExZDVhYjY3MTAxOTQ5OWVkZDZmODQ3YmYzYzk3OTZkOTdiNTU3OTI0MGM2NTJlZjQ0NWRhP3Jlc3BvbnNlLWNvbnRlbnQtZGlzcG9zaXRpb249KiZyZXNwb25zZS1jb250ZW50LXR5cGU9KiJ9XX0_&Signature=hiPC3Nn7JtVghKOC-CCE5imxed5dmote3JYSSQkdHA-hM7bvvFoJ-QtGYYzxaDaiV6ldIzhjDkLO1FwWK3OC6fx3ocKxRvfh0ebB-l8qwGxOCuGVePaj7b2a9Z6i54EkGwD6n7lUX6A4i0Ip%7ExlAAJsj7I7NzWLfjtE7O-XZE-Lq-iQsqOyaAR26tYTAhD4PpaicGVfXt-Kxko8MzKxE2zrHs4vpXodjPsRKxSJWuytjWMmXNH1-PptvCV35Y1HM1UpbytyX8nhyGg3lchYFvQa6keI%7Ehhh-o05755%7EUin2dLXhZpdjcqtqpkM0BJytBspU4onjdIrlH-Ay4PUzaIQ__&Key-Pair-Id=KVTP0A1DKRTAX)"
   ]
  },
  {
   "cell_type": "markdown",
   "metadata": {},
   "source": [
    "The model page lists a variety of quantized models in different quantization types. Let's focus on a few."
   ]
  },
  {
   "cell_type": "code",
   "execution_count": 7,
   "metadata": {},
   "outputs": [],
   "source": [
    "quantization_types = [\n",
    "    \"Q8_0\",\n",
    "    \"Q4_K_M\",\n",
    "    \"Q2_K\",\n",
    "]"
   ]
  },
  {
   "cell_type": "markdown",
   "metadata": {},
   "source": [
    "These quantized models are not available from the Ollama model registry. Fortunately, adding custom models downloaded from 🤗 to Ollama is quite straightforward. We need to give Ollama a model name and a simple configuration file."
   ]
  },
  {
   "cell_type": "code",
   "execution_count": 8,
   "metadata": {},
   "outputs": [],
   "source": [
    "import tqdm"
   ]
  },
  {
   "cell_type": "code",
   "execution_count": 9,
   "metadata": {},
   "outputs": [
    {
     "name": "stderr",
     "output_type": "stream",
     "text": [
      "  0%|          | 0/3 [00:00<?, ?it/s]/Users/cls/miniforge3/envs/ai-on-a-microbudget/lib/python3.11/site-packages/tqdm/auto.py:21: TqdmWarning: IProgress not found. Please update jupyter and ipywidgets. See https://ipywidgets.readthedocs.io/en/stable/user_install.html\n",
      "  from .autonotebook import tqdm as notebook_tqdm\n"
     ]
    },
    {
     "name": "stdout",
     "output_type": "stream",
     "text": [
      "Downloading Q8_0 model\n"
     ]
    },
    {
     "name": "stderr",
     "output_type": "stream",
     "text": [
      " 67%|██████▋   | 2/3 [00:00<00:00,  3.72it/s]"
     ]
    },
    {
     "name": "stdout",
     "output_type": "stream",
     "text": [
      "Downloading Q4_K_M model\n",
      "Downloading Q2_K model\n"
     ]
    },
    {
     "name": "stderr",
     "output_type": "stream",
     "text": [
      "100%|██████████| 3/3 [00:00<00:00,  3.87it/s]\n"
     ]
    },
    {
     "data": {
      "text/plain": [
       "{'Q8_0': '/Users/cls/.cache/huggingface/hub/models--TheBloke--rocket-3B-GGUF/snapshots/23c0500471cb5e466aab7e9ade9b4da32dea43d2/rocket-3b.Q8_0.gguf',\n",
       " 'Q4_K_M': '/Users/cls/.cache/huggingface/hub/models--TheBloke--rocket-3B-GGUF/snapshots/23c0500471cb5e466aab7e9ade9b4da32dea43d2/rocket-3b.Q4_K_M.gguf',\n",
       " 'Q2_K': '/Users/cls/.cache/huggingface/hub/models--TheBloke--rocket-3B-GGUF/snapshots/23c0500471cb5e466aab7e9ade9b4da32dea43d2/rocket-3b.Q2_K.gguf'}"
      ]
     },
     "execution_count": 9,
     "metadata": {},
     "output_type": "execute_result"
    }
   ],
   "source": [
    "quantized_model_paths = {}\n",
    "for qtype in tqdm.tqdm(quantization_types):\n",
    "    model_file = f\"rocket-3b.{qtype}.gguf\" \n",
    "    tqdm.tqdm.write(f\"Downloading {qtype} model\")\n",
    "    model_path = huggingface_hub.hf_hub_download(full_model_name, filename=model_file)\n",
    "    quantized_model_paths[qtype] = model_path\n",
    "    \n",
    "quantized_model_paths"
   ]
  },
  {
   "cell_type": "code",
   "execution_count": 10,
   "metadata": {},
   "outputs": [],
   "source": [
    "def make_model_file(model_path) -> str:\n",
    "    \"\"\"Creates a simple Ollama model configuration file for the given serialized model.\"\"\"\n",
    "    content = f\"FROM {model_path}\"\n",
    "    return content"
   ]
  },
  {
   "cell_type": "code",
   "execution_count": 11,
   "metadata": {},
   "outputs": [
    {
     "name": "stdout",
     "output_type": "stream",
     "text": [
      "Creating Ollama model rocket-3B-GGUF:Q8_0\n",
      "success\n",
      "Creating Ollama model rocket-3B-GGUF:Q4_K_M\n",
      "success\n",
      "Creating Ollama model rocket-3B-GGUF:Q2_K\n",
      "success\n"
     ]
    }
   ],
   "source": [
    "for qtype, model_path in quantized_model_paths.items():\n",
    "    ollama_model_name = f\"{model_name}:{qtype}\"\n",
    "    print(f\"Creating Ollama model {ollama_model_name}\")\n",
    "    response = ollama.create(\n",
    "        model=ollama_model_name,\n",
    "        modelfile=make_model_file(model_path)\n",
    "    )\n",
    "    print(response[\"status\"])\n"
   ]
  },
  {
   "cell_type": "markdown",
   "metadata": {},
   "source": [
    "Let's verify that all of the models above are now available in Ollama. Also, have a look at the size on disk."
   ]
  },
  {
   "cell_type": "code",
   "execution_count": 12,
   "metadata": {},
   "outputs": [],
   "source": [
    "import pandas\n",
    "from pandas import DataFrame\n"
   ]
  },
  {
   "cell_type": "code",
   "execution_count": 13,
   "metadata": {},
   "outputs": [],
   "source": [
    "def show_ollama_model_table() -> DataFrame:\n",
    "    \"\"\"List Ollama models in tabular form\"\"\"\n",
    "    model_data = pandas.json_normalize(ollama.list()[\"models\"])\n",
    "    model_data = model_data[[\"model\", \"size\", \"details.family\", \"details.format\", \"details.parameter_size\", \"details.quantization_level\"]]\n",
    "    model_data[\"size\"] = model_data[\"size\"].apply(lambda s: round(s / (1024**3), 2))\n",
    "    return model_data"
   ]
  },
  {
   "cell_type": "code",
   "execution_count": 14,
   "metadata": {},
   "outputs": [
    {
     "data": {
      "text/html": [
       "<div>\n",
       "<style scoped>\n",
       "    .dataframe tbody tr th:only-of-type {\n",
       "        vertical-align: middle;\n",
       "    }\n",
       "\n",
       "    .dataframe tbody tr th {\n",
       "        vertical-align: top;\n",
       "    }\n",
       "\n",
       "    .dataframe thead th {\n",
       "        text-align: right;\n",
       "    }\n",
       "</style>\n",
       "<table border=\"1\" class=\"dataframe\">\n",
       "  <thead>\n",
       "    <tr style=\"text-align: right;\">\n",
       "      <th></th>\n",
       "      <th>model</th>\n",
       "      <th>size</th>\n",
       "      <th>details.family</th>\n",
       "      <th>details.format</th>\n",
       "      <th>details.parameter_size</th>\n",
       "      <th>details.quantization_level</th>\n",
       "    </tr>\n",
       "  </thead>\n",
       "  <tbody>\n",
       "    <tr>\n",
       "      <th>0</th>\n",
       "      <td>rocket-3B-GGUF:Q2_K</td>\n",
       "      <td>1.12</td>\n",
       "      <td>stablelm</td>\n",
       "      <td>gguf</td>\n",
       "      <td>2.8B</td>\n",
       "      <td>Q2_K</td>\n",
       "    </tr>\n",
       "    <tr>\n",
       "      <th>1</th>\n",
       "      <td>rocket-3B-GGUF:Q4_K_M</td>\n",
       "      <td>1.59</td>\n",
       "      <td>stablelm</td>\n",
       "      <td>gguf</td>\n",
       "      <td>2.8B</td>\n",
       "      <td>Q4_K_M</td>\n",
       "    </tr>\n",
       "    <tr>\n",
       "      <th>2</th>\n",
       "      <td>rocket-3B-GGUF:Q8_0</td>\n",
       "      <td>2.77</td>\n",
       "      <td>stablelm</td>\n",
       "      <td>gguf</td>\n",
       "      <td>2.8B</td>\n",
       "      <td>Q8_0</td>\n",
       "    </tr>\n",
       "    <tr>\n",
       "      <th>3</th>\n",
       "      <td>tinyllama:1.1b-chat</td>\n",
       "      <td>0.59</td>\n",
       "      <td>llama</td>\n",
       "      <td>gguf</td>\n",
       "      <td>1B</td>\n",
       "      <td>Q4_0</td>\n",
       "    </tr>\n",
       "    <tr>\n",
       "      <th>4</th>\n",
       "      <td>codeqwen:7b-chat</td>\n",
       "      <td>3.89</td>\n",
       "      <td>qwen2</td>\n",
       "      <td>gguf</td>\n",
       "      <td>7B</td>\n",
       "      <td>Q4_0</td>\n",
       "    </tr>\n",
       "    <tr>\n",
       "      <th>5</th>\n",
       "      <td>tinyllama:latest</td>\n",
       "      <td>0.59</td>\n",
       "      <td>llama</td>\n",
       "      <td>gguf</td>\n",
       "      <td>1B</td>\n",
       "      <td>Q4_0</td>\n",
       "    </tr>\n",
       "    <tr>\n",
       "      <th>6</th>\n",
       "      <td>Mistral-7B-OpenOrca:Q2_K</td>\n",
       "      <td>2.87</td>\n",
       "      <td>llama</td>\n",
       "      <td>gguf</td>\n",
       "      <td>7B</td>\n",
       "      <td>Q2_K</td>\n",
       "    </tr>\n",
       "    <tr>\n",
       "      <th>7</th>\n",
       "      <td>TheBloke/Mistral-7B-OpenOrca-GGUF:mistral-7b-o...</td>\n",
       "      <td>2.87</td>\n",
       "      <td>llama</td>\n",
       "      <td>gguf</td>\n",
       "      <td>7B</td>\n",
       "      <td>Q2_K</td>\n",
       "    </tr>\n",
       "    <tr>\n",
       "      <th>8</th>\n",
       "      <td>dolphin-mixtral:latest</td>\n",
       "      <td>24.63</td>\n",
       "      <td>llama</td>\n",
       "      <td>gguf</td>\n",
       "      <td>47B</td>\n",
       "      <td>Q4_0</td>\n",
       "    </tr>\n",
       "    <tr>\n",
       "      <th>9</th>\n",
       "      <td>orca-mini:13b</td>\n",
       "      <td>6.86</td>\n",
       "      <td>llama</td>\n",
       "      <td>gguf</td>\n",
       "      <td>13B</td>\n",
       "      <td>Q4_0</td>\n",
       "    </tr>\n",
       "    <tr>\n",
       "      <th>10</th>\n",
       "      <td>nomic-embed-text:latest</td>\n",
       "      <td>0.26</td>\n",
       "      <td>nomic-bert</td>\n",
       "      <td>gguf</td>\n",
       "      <td>137M</td>\n",
       "      <td>F16</td>\n",
       "    </tr>\n",
       "    <tr>\n",
       "      <th>11</th>\n",
       "      <td>all-minilm:latest</td>\n",
       "      <td>0.04</td>\n",
       "      <td>bert</td>\n",
       "      <td>gguf</td>\n",
       "      <td>23M</td>\n",
       "      <td>F16</td>\n",
       "    </tr>\n",
       "    <tr>\n",
       "      <th>12</th>\n",
       "      <td>mxbai-embed-large:latest</td>\n",
       "      <td>0.62</td>\n",
       "      <td>bert</td>\n",
       "      <td>gguf</td>\n",
       "      <td>334M</td>\n",
       "      <td>F16</td>\n",
       "    </tr>\n",
       "    <tr>\n",
       "      <th>13</th>\n",
       "      <td>llama3:latest</td>\n",
       "      <td>4.34</td>\n",
       "      <td>llama</td>\n",
       "      <td>gguf</td>\n",
       "      <td>8B</td>\n",
       "      <td>Q4_0</td>\n",
       "    </tr>\n",
       "    <tr>\n",
       "      <th>14</th>\n",
       "      <td>gemma:2b</td>\n",
       "      <td>1.56</td>\n",
       "      <td>gemma</td>\n",
       "      <td>gguf</td>\n",
       "      <td>3B</td>\n",
       "      <td>Q4_0</td>\n",
       "    </tr>\n",
       "    <tr>\n",
       "      <th>15</th>\n",
       "      <td>starcoder2:15b</td>\n",
       "      <td>8.44</td>\n",
       "      <td>starcoder2</td>\n",
       "      <td>gguf</td>\n",
       "      <td>16B</td>\n",
       "      <td>Q4_0</td>\n",
       "    </tr>\n",
       "    <tr>\n",
       "      <th>16</th>\n",
       "      <td>llava:latest</td>\n",
       "      <td>4.41</td>\n",
       "      <td>llama</td>\n",
       "      <td>gguf</td>\n",
       "      <td>7B</td>\n",
       "      <td>Q4_0</td>\n",
       "    </tr>\n",
       "    <tr>\n",
       "      <th>17</th>\n",
       "      <td>mistral:latest</td>\n",
       "      <td>3.83</td>\n",
       "      <td>llama</td>\n",
       "      <td>gguf</td>\n",
       "      <td>7B</td>\n",
       "      <td>Q4_0</td>\n",
       "    </tr>\n",
       "  </tbody>\n",
       "</table>\n",
       "</div>"
      ],
      "text/plain": [
       "                                                model   size details.family  \\\n",
       "0                                 rocket-3B-GGUF:Q2_K   1.12       stablelm   \n",
       "1                               rocket-3B-GGUF:Q4_K_M   1.59       stablelm   \n",
       "2                                 rocket-3B-GGUF:Q8_0   2.77       stablelm   \n",
       "3                                 tinyllama:1.1b-chat   0.59          llama   \n",
       "4                                    codeqwen:7b-chat   3.89          qwen2   \n",
       "5                                    tinyllama:latest   0.59          llama   \n",
       "6                            Mistral-7B-OpenOrca:Q2_K   2.87          llama   \n",
       "7   TheBloke/Mistral-7B-OpenOrca-GGUF:mistral-7b-o...   2.87          llama   \n",
       "8                              dolphin-mixtral:latest  24.63          llama   \n",
       "9                                       orca-mini:13b   6.86          llama   \n",
       "10                            nomic-embed-text:latest   0.26     nomic-bert   \n",
       "11                                  all-minilm:latest   0.04           bert   \n",
       "12                           mxbai-embed-large:latest   0.62           bert   \n",
       "13                                      llama3:latest   4.34          llama   \n",
       "14                                           gemma:2b   1.56          gemma   \n",
       "15                                     starcoder2:15b   8.44     starcoder2   \n",
       "16                                       llava:latest   4.41          llama   \n",
       "17                                     mistral:latest   3.83          llama   \n",
       "\n",
       "   details.format details.parameter_size details.quantization_level  \n",
       "0            gguf                   2.8B                       Q2_K  \n",
       "1            gguf                   2.8B                     Q4_K_M  \n",
       "2            gguf                   2.8B                       Q8_0  \n",
       "3            gguf                     1B                       Q4_0  \n",
       "4            gguf                     7B                       Q4_0  \n",
       "5            gguf                     1B                       Q4_0  \n",
       "6            gguf                     7B                       Q2_K  \n",
       "7            gguf                     7B                       Q2_K  \n",
       "8            gguf                    47B                       Q4_0  \n",
       "9            gguf                    13B                       Q4_0  \n",
       "10           gguf                   137M                        F16  \n",
       "11           gguf                    23M                        F16  \n",
       "12           gguf                   334M                        F16  \n",
       "13           gguf                     8B                       Q4_0  \n",
       "14           gguf                     3B                       Q4_0  \n",
       "15           gguf                    16B                       Q4_0  \n",
       "16           gguf                     7B                       Q4_0  \n",
       "17           gguf                     7B                       Q4_0  "
      ]
     },
     "execution_count": 14,
     "metadata": {},
     "output_type": "execute_result"
    }
   ],
   "source": [
    "show_ollama_model_table()"
   ]
  },
  {
   "cell_type": "markdown",
   "metadata": {},
   "source": [
    "## Test\n",
    "\n",
    "Let's prompt the original and the quantized models to do something useful. This should give us a first impression of how model performance relates to the level of quantization."
   ]
  },
  {
   "cell_type": "code",
   "execution_count": 15,
   "metadata": {},
   "outputs": [
    {
     "data": {
      "text/markdown": [
       "Recommend some sights in Florence, Italy."
      ],
      "text/plain": [
       "<IPython.core.display.Markdown object>"
      ]
     },
     "metadata": {},
     "output_type": "display_data"
    }
   ],
   "source": [
    "test_prompt = \"Recommend some sights in Florence, Italy.\"\n",
    "show.text(test_prompt)"
   ]
  },
  {
   "cell_type": "markdown",
   "metadata": {},
   "source": [
    "### 8-bit "
   ]
  },
  {
   "cell_type": "code",
   "execution_count": 16,
   "metadata": {},
   "outputs": [
    {
     "data": {
      "text/plain": [
       "'rocket-3B-GGUF:Q8_0'"
      ]
     },
     "execution_count": 16,
     "metadata": {},
     "output_type": "execute_result"
    }
   ],
   "source": [
    "quantization_level = \"Q8_0\"\n",
    "ollama_model_name = f\"{model_name}:{quantization_level}\"\n",
    "ollama_model_name"
   ]
  },
  {
   "cell_type": "code",
   "execution_count": 17,
   "metadata": {},
   "outputs": [
    {
     "name": "stdout",
     "output_type": "stream",
     "text": [
      "\n",
      "1. Duomo di Firenze (Florence Cathedral) - A stunning and iconic Gothic cathedral located in the heart of Florence.\n",
      "2. Ponte Vecchio (Old Bridge) - An ancient stone bridge spanning over the Arno River that is lined with shops selling souvenirs and jewelry.\n",
      "3. Uffizi Gallery - One of the world's oldest and most famous art museums, filled to the brim with breathtaking Renaissance masterpieces by Botticelli, Michelangelo, Leonardo da Vinci, and Raphael.\n",
      "4. Piazza della Signoria (Square of the Citizens) - A picturesque public square that houses a number of stunning sculptures, including Michelangelo's famous \"David.\"\n",
      "5. Arno River - A scenic river that winds through Florence, offering great views from several terraces built along its banks.\n",
      "6. Palazzo Vecchio (Old Palace) - A grand historical building that once served as the seat of power for the Signoria of Florence. It is now home to a number of art collections and exhibitions.\n",
      "7. Bargello Museum - Housed in a 16th-century palace, this museum features an impressive collection of Renaissance sculptures, including Donatello's \"Dying Gaul.\"\n",
      "8. Boboli Gardens - A beautiful park that surrounds the Bardini gardens, offering stunning views over Florence from its hillsides and terraces.\n",
      "9. Mercato Centrale - A modern indoor market where you can sample traditional Tuscan cuisine and shop for local products.\n",
      "10. San Lorenzo Market - One of the oldest and largest outdoor markets in Europe, located just a short walk from the Uffizi Gallery. Here, you can find everything from leather goods to antiques.\n",
      "11. Basilica di Santa Croce (Basilica of the Holy Cross) - A grand Gothic church that contains the tombs of some of Italy's greatest Renaissance personalities like Galileo, Machiavelli, and Michelangelo.\n",
      "12. San Miniato al Monte - Another impressive hilltop church located just outside Florence, known for its stunning views and medieval frescoes.\n",
      "13. Pitti Palace Gardens - A beautiful park surrounding the Pitti Palace complex that houses several museums and exhibition spaces.\n",
      "14. Urraca Tower - A historic tower situated on one of Florence's hills, offering panoramic views over the city and a great spot for taking photos with its famous mural painted by Benozzo Gozzoli.\n",
      "15. Mercato di Santa Croce (Market of the Holy Cross) - A lively indoor market that sells fresh produce, cheeses, meats, and other local specialties.\n",
      "16. San Frediano Market - Another bustling outdoor market located near Piazza del Mercato that specializes in antiques, vintage clothes, and handmade crafts.\n",
      "17. Oltrarno - The less-touristy side of Florence, known for its charming streets, trendy boutiques, and world-class galleries like the Galleria dell'Accademia di Belle Arti.\n",
      "18. Orsanmichele - A unique fusion of Gothic and Byzantine architecture located on Piazza del Duomo, featuring a striking wooden ceiling by Filippo Brunelleschi.\n",
      "19. San Lorenzo Church - An iconic church that features stunning works of art by famous Italian artists like Fra Angelico and Ghiberti's \"Gates of Paradise.\"\n",
      "20. La Specola Museum - A natural history museum housed in a 17th-century palace, featuring extensive collections of taxidermy animals, minerals, and archeological finds.\n",
      "\n",
      "These are just some of the many sights that Florence has to offer! Whether you're interested in art, architecture, history, or simply beautiful views, Florence is sure to leave an unforgettable impression on you."
     ]
    }
   ],
   "source": [
    "response = ollama.chat(\n",
    "    model=ollama_model_name,\n",
    "    messages=[\n",
    "        {\n",
    "            \"role\": \"user\",\n",
    "            \"content\": test_prompt,\n",
    "        },\n",
    "    ],\n",
    "    stream=True,\n",
    ")\n",
    "show.stream(response)"
   ]
  },
  {
   "cell_type": "markdown",
   "metadata": {},
   "source": [
    "### 4-bit"
   ]
  },
  {
   "cell_type": "code",
   "execution_count": 18,
   "metadata": {},
   "outputs": [
    {
     "data": {
      "text/plain": [
       "'rocket-3B-GGUF:Q4_K_M'"
      ]
     },
     "execution_count": 18,
     "metadata": {},
     "output_type": "execute_result"
    }
   ],
   "source": [
    "quantization_level = \"Q4_K_M\"\n",
    "ollama_model_name = f\"{model_name}:{quantization_level}\"\n",
    "ollama_model_name"
   ]
  },
  {
   "cell_type": "code",
   "execution_count": 19,
   "metadata": {},
   "outputs": [
    {
     "name": "stdout",
     "output_type": "stream",
     "text": [
      "\n",
      "\n",
      "Florence is known for its beautiful and historic city center with stunning Gothic, Renaissance, and Baroque architecture. Here are a few places you must visit to get the full experience of Florence's charm:\n",
      "1) Ponte Vecchio (Old Bridge): A medieval stone bridge spanning over the Arno River, lined with shops selling local handcrafted souvenirs such as leather goods, jewelry, and gold items.\n",
      "2) Piazza della Signoria (Uffizi Gallery & Giotto’s Campo Dome): The grand plaza where you can find the iconic Uffizi Gallery housing a vast collection of Italian Renaissance artworks including Botticelli's \"The Birth of Venus.\" Also, take a stroll to admire the stunning Campanile di Giotto (Giotto’s Bell Tower) situated opposite to it.\n",
      "3) Ponte alle Carraje (Arno River Bridge): A bridge that connects two picturesque banks of the Arno river where you can enjoy scenic views of the river and historic buildings surrounding it.\n",
      "4) Palazzo Vecchio: The medieval palace turned into a civic museum showcasing art, tapestries, and artifacts from Florence's rich history. Be sure to visit the hall of the Magi, where important historical documents are preserved.\n",
      "5) Basilica di Santa Croce (Church of the Holy Cross): A magnificent Gothic-style church housing the tombs of some of Italy's greatest intellectuals and artists like Galileo Galilei, Michelangelo, Machiavelli, and Dante Alighieri. \n",
      "6) San Lorenzo Market: The largest indoor market in Florence offering a diverse range of goods from fresh produce to clothing and souvenirs. Be prepared for the crowds but immerse yourself in the vibrant atmosphere and discover unique treasures.\n",
      "7) Piazza del Duomo (Florence Cathedral): A beautiful square where you can admire the iconic dome of the Cattedrale di Santa Maria del Fiore (Florence Cathedral). You may also climb to the top of the dome for a breathtaking panoramic view of the city.\n",
      "8) Galleria dell'Accademia: Housed in a neoclassical building, this museum houses an impressive collection of Italian Renaissance art pieces including Michelangelo's famous sculpture \"David\" and Botticelli's \"The Birth of Venus.\" \n",
      "9) Mercato Centrale: A bustling indoor food market featuring local Tuscan cuisine with live music performances making it a perfect spot for foodies and culture enthusiasts.\n",
      "10) Urreta degli Neri (Goat Sheds): A unique and charming spot to experience the traditional Tuscan goat farming culture by tasting delicious handmade cheeses, cured meats, and olive oil. \n",
      "11) Boboli Gardens: The vast park surrounding the Pitti Palace offering breathtaking views of the city skyline as well as the Arno riverbank. You can explore the stunning gardens while appreciating sculptures and fountains. \n",
      "\n",
      "These are just a few must-see attractions that will leave you in awe of Florence's beauty, history, and art. There is so much more to discover in this enchanting city!"
     ]
    }
   ],
   "source": [
    "response = ollama.chat(\n",
    "    model=ollama_model_name,\n",
    "    messages=[\n",
    "        {\n",
    "            \"role\": \"user\",\n",
    "            \"content\": test_prompt,\n",
    "        },\n",
    "    ],\n",
    "    stream=True,\n",
    ")\n",
    "show.stream(response)"
   ]
  },
  {
   "cell_type": "markdown",
   "metadata": {},
   "source": [
    "### 2-bit"
   ]
  },
  {
   "cell_type": "code",
   "execution_count": 20,
   "metadata": {},
   "outputs": [
    {
     "data": {
      "text/plain": [
       "'rocket-3B-GGUF:Q2_K'"
      ]
     },
     "execution_count": 20,
     "metadata": {},
     "output_type": "execute_result"
    }
   ],
   "source": [
    "quantization_level = \"Q2_K\"\n",
    "ollama_model_name = f\"{model_name}:{quantization_level}\"\n",
    "ollama_model_name"
   ]
  },
  {
   "cell_type": "code",
   "execution_count": 21,
   "metadata": {},
   "outputs": [
    {
     "name": "stdout",
     "output_type": "stream",
     "text": [
      "�#florence #italy #piazzadelduomo #domevimovie#vatican city#tuscanarchitecture#levinagroup#scenicviews. \n",
      "\n",
      "Florence is a beautiful city located in the heart of Tuscany. The historic center of Florence is recognized as a UNESCO World Heritage Site. Apart from being an artistic and cultural hub, Florence also attracts travelers for its captivating sceneries. Here are some picturesque sites to explore:\n",
      "1) Piazza del Duomo: This beautiful square in the heart of Florence houses two historic churches - Santa Maria del Fiore and Duomo. The stunning cathedral with intricate designs on the facade is located here. You can climb up to the roof terrace for an incredible panoramic view of the city.\n",
      "2) Dome in Movie: The symbol of Florence, the iconic dome has featured in several movies like \"La La Land\" and \"Assassin's Creed.\" It’s a stunning architectural masterpiece adorned with intricate carvings, frescoes, and ornate sculptures.\n",
      "3) Vatican City: Known as the \"Eternal City,\" Vatican City is an independent city-state enclaved within Rome. Only accessible by foot or train, it houses the Sistine Chapel, an absolute wonder in its entirety. It's a religious pilgrimage site for art and architecture enthusiasts.\n",
      "4) Tuscan Architecture: Florence has unique Tuscan architectural styles that reflect the region’s history and culture. The ornate facades of old buildings have intricate designs with elements such as colonnades, pediments, and elaborate doorways.\n",
      "5) Le Na Group: This scenic view is captured at Piazzale Santa Trinita where visitors can enjoy a bird's eye view of Florence in all its grandeur. \n",
      "\n",
      "Exploring these sights will give you insights into the rich history, art, religion, and culture of Florence, Italy."
     ]
    }
   ],
   "source": [
    "response = ollama.chat(\n",
    "    model=ollama_model_name,\n",
    "    messages=[\n",
    "        {\n",
    "            \"role\": \"user\",\n",
    "            \"content\": test_prompt,\n",
    "        },\n",
    "    ],\n",
    "    stream=True,\n",
    ")\n",
    "show.stream(response)"
   ]
  },
  {
   "cell_type": "markdown",
   "metadata": {},
   "source": [
    "How would you rate the quality of each response? Letting a large, highly factual LLM review them might help you spot the errors."
   ]
  },
  {
   "cell_type": "markdown",
   "metadata": {},
   "source": [
    "---\n",
    "_This notebook is licensed under a [Creative Commons Attribution-NonCommercial-ShareAlike 4.0 International (CC BY-NC-SA 4.0)](https://creativecommons.org/licenses/by-nc-sa/4.0/). Copyright © 2024 [Christian Staudt](https://clstaudt.me), [Katharina Rasch](https://krasch.io)_"
   ]
  }
 ],
 "metadata": {
  "kernelspec": {
   "display_name": "Python 3 (ipykernel)",
   "language": "python",
   "name": "python3"
  },
  "language_info": {
   "codemirror_mode": {
    "name": "ipython",
    "version": 3
   },
   "file_extension": ".py",
   "mimetype": "text/x-python",
   "name": "python",
   "nbconvert_exporter": "python",
   "pygments_lexer": "ipython3",
   "version": "3.11.9"
  }
 },
 "nbformat": 4,
 "nbformat_minor": 4
}
